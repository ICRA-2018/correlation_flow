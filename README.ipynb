{
 "cells": [
  {
   "cell_type": "markdown",
   "metadata": {},
   "source": [
    "# Correlation Flow\n",
    "Correlation Flow: Robust Optical Flow using Kernel Cross-Correlators"
   ]
  },
  {
   "cell_type": "code",
   "execution_count": null,
   "metadata": {},
   "outputs": [],
   "source": [
    "\tVelocity Estimation in 3-D space $v_x, v_y, v_z, \\omega_z$"
   ]
  },
  {
   "cell_type": "markdown",
   "metadata": {},
   "source": [
    "This repo contains source codes for the following paper, which is accepted by ICRA-18:\n",
    "\n",
    "[Chen Wang](https://wang-chen.github.io) *, Tete Ji *, Thien-Minh Nguyen, and [Lihua Xie](http://www.ntu.edu.sg/home/elhxie/), \"Correlation Flow: Robust Optical Flow Using Kernel Cross-Correlators\", IEEE International Conference on Robotics and Automation (ICRA), 2018.\n",
    "\n",
    "# Platform\n",
    "  Codes have been tested on Ubuntu 16.04 with ROS kinetic.\n",
    "  \n",
    "# Install Dependencies:\n",
    "  1. Install FFT library: \n",
    "\t```\n",
    "\tsudo apt-get install libfftw3-dev libfftw3-doc\n",
    "\t```\n",
    "\n",
    "# Install Intel Math Kernel Library (MKL) （optional）:\n",
    "\n",
    "  1. Download MKL from Intel website\n",
    "  2. Extract downloaded file \n",
    "  \t```\n",
    "  \ttar -zxvf [name_of_downloaded_file]\n",
    "  \t```\n",
    "  3. Go to extracted folder, give permission: \n",
    "  \t```\n",
    "  \tsudo chmod +x install.sh\n",
    "  \t```\n",
    "  4. Run installation \n",
    "\t```\n",
    "  \t./install.sh\n",
    "  \t```\n",
    "  5. Link library, add to .bashrc: \n",
    "  \t```\n",
    "  \tsource /opt/intel/bin/compilervars.sh intel64\n",
    "  \t```\n",
    "  6. Try compile in ROS workspace\n",
    "\n",
    "# If this repo is useful for your projects, you may cite it as:"
   ]
  },
  {
   "cell_type": "code",
   "execution_count": null,
   "metadata": {},
   "outputs": [],
   "source": [
    "@inproceedings{wang2018correlation,\n",
    "  title={{Correlation Flow: Robust Optical Flow using Kernel Cross-Correlators}},\n",
    "  author={Wang, Chen and Ji, Tete and Nguyen, Thien-Minh and Xie, Lihua},\n",
    "  booktitle={International Conference on Robotics and Automation (ICRA)},\n",
    "  year={2018},\n",
    "  organization={IEEE}\n",
    "}"
   ]
  },
  {
   "cell_type": "markdown",
   "metadata": {},
   "source": [
    "# Correlation Flow is built on following work: \n",
    "\n",
    "[Chen Wang](https://wang-chen.github.io), [Le Zhang](https://sites.google.com/site/zhangleuestc/home), [Lihua Xie](http://www.ntu.edu.sg/home/elhxie/), [Junsong Yuan](http://www.ntu.edu.sg/home/jsyuan/), Kernel Cross-Correlator, In AAAI Conference on Artificial Intelligence (AAAI-18), 2018 ([PDF available here](https://arxiv.org/pdf/1709.05936.pdf))   ([source codes available here](https://github.com/wang-chen/KCC))\n",
    "\n",
    "# Works using Correlation Flow\n",
    "\n",
    "\n",
    "Thien-Minh Nguyen, Abdul Hanif Zaini, [Chen Wang](https://wang-chen.github.io) , Kexin Guo, and [Lihua Xie](http://www.ntu.edu.sg/home/elhxie/), \"Robust Target-relative Localization with Ultra-Wideband Ranging and Communication\", IEEE International Conference on Robotics and Automation (ICRA 2018), 2018. ([Video available here](https://youtu.be/ZkxFDGdB0hQ))\n",
    "\n",
    "*The above work applys correlation flow to improve the performance of localization accuracy."
   ]
  }
 ],
 "metadata": {},
 "nbformat": 4,
 "nbformat_minor": 2
}
